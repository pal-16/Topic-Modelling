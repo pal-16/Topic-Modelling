{
 "cells": [
  {
   "cell_type": "code",
   "execution_count": 1,
   "metadata": {},
   "outputs": [],
   "source": [
    "import pandas as pd\n",
    "file_name = 'Medium_AggregatedData.csv'\n",
    "npr = pd.read_csv(file_name)"
   ]
  },
  {
   "cell_type": "code",
   "execution_count": 4,
   "metadata": {},
   "outputs": [],
   "source": [
    "from sklearn.feature_extraction.text import TfidfVectorizer\n",
    "tfidf=TfidfVectorizer(max_df=0.95,min_df=2,stop_words='english')\n",
    "dtm=tfidf.fit_transform(npr['text'])"
   ]
  },
  {
   "cell_type": "code",
   "execution_count": 5,
   "metadata": {},
   "outputs": [
    {
     "data": {
      "text/plain": [
       "<279577x734843 sparse matrix of type '<class 'numpy.float64'>'\n",
       "\twith 81334806 stored elements in Compressed Sparse Row format>"
      ]
     },
     "execution_count": 5,
     "metadata": {},
     "output_type": "execute_result"
    }
   ],
   "source": [
    "dtm"
   ]
  },
  {
   "cell_type": "code",
   "execution_count": 6,
   "metadata": {},
   "outputs": [
    {
     "data": {
      "text/plain": [
       "NMF(alpha=0.0, beta_loss='frobenius', init=None, l1_ratio=0.0, max_iter=200,\n",
       "    n_components=7, random_state=42, shuffle=False, solver='cd', tol=0.0001,\n",
       "    verbose=0)"
      ]
     },
     "execution_count": 6,
     "metadata": {},
     "output_type": "execute_result"
    }
   ],
   "source": [
    "from sklearn.decomposition import NMF\n",
    "nmf_model=NMF(n_components=7, random_state=42)\n",
    "nmf_model.fit(dtm)\n"
   ]
  },
  {
   "cell_type": "code",
   "execution_count": 12,
   "metadata": {},
   "outputs": [
    {
     "data": {
      "text/plain": [
       "'00002613'"
      ]
     },
     "execution_count": 12,
     "metadata": {},
     "output_type": "execute_result"
    }
   ],
   "source": [
    "tfidf.get_feature_names()[100]"
   ]
  },
  {
   "cell_type": "code",
   "execution_count": 14,
   "metadata": {},
   "outputs": [
    {
     "name": "stdout",
     "output_type": "stream",
     "text": [
      "top 15 words # 0\n",
      "['know', 'way', 'don', 'future', 'things', 'think', 'work', 'new', 'world', 'time', 'just', 'technology', 'human', 'like', 'people']\n",
      "\n",
      "\n",
      "top 15 words # 1\n",
      "['regression', 'set', 'features', 'using', 'input', 'output', 'images', 'dataset', 'layer', 'function', 'neural', 'training', 'image', 'network', 'model']\n",
      "\n",
      "\n",
      "top 15 words # 2\n",
      "['del', 'um', 'em', 'como', 'por', 'las', 'una', 'se', 'es', 'los', 'para', 'el', 'en', 'la', 'que']\n",
      "\n",
      "\n",
      "top 15 words # 3\n",
      "['need', 'use', 'tools', 'companies', 'python', 'insights', 'information', 'scientists', 'analysis', 'scientist', 'big', 'business', 'analytics', 'science', 'data']\n",
      "\n",
      "\n",
      "top 15 words # 4\n",
      "['product', 'conversational', 'experience', 'users', 'marketing', 'voice', 'business', 'bots', 'service', 'user', 'bot', 'customers', 'chatbot', 'chatbots', 'customer']\n",
      "\n",
      "\n",
      "top 15 words # 5\n",
      "['intelligence', 'networks', 'computer', 'supervised', 'reinforcement', 'algorithm', 'course', 'python', 'neural', 'learn', 'algorithms', 'ml', 'deep', 'machine', 'learning']\n",
      "\n",
      "\n",
      "top 15 words # 6\n",
      "['research', 'healthcare', 'industry', 'technologies', 'business', 'future', 'blockchain', 'systems', 'humans', 'companies', 'technology', 'human', 'artificial', 'intelligence', 'ai']\n",
      "\n",
      "\n"
     ]
    }
   ],
   "source": [
    "for index,topic in enumerate(nmf_model.components_):\n",
    "    print(f\"top 15 words # {index}\")\n",
    "    print([tfidf.get_feature_names()[i] for i in topic.argsort()[-15:]])\n",
    "    print('\\n')"
   ]
  }
 ],
 "metadata": {
  "kernelspec": {
   "display_name": "Python 3",
   "language": "python",
   "name": "python3"
  },
  "language_info": {
   "codemirror_mode": {
    "name": "ipython",
    "version": 3
   },
   "file_extension": ".py",
   "mimetype": "text/x-python",
   "name": "python",
   "nbconvert_exporter": "python",
   "pygments_lexer": "ipython3",
   "version": "3.6.8"
  }
 },
 "nbformat": 4,
 "nbformat_minor": 2
}
